{
  "nbformat": 4,
  "nbformat_minor": 0,
  "metadata": {
    "colab": {
      "provenance": [],
      "authorship_tag": "ABX9TyNWGo5Zobc0bwmrBJC/pLqh",
      "include_colab_link": true
    },
    "kernelspec": {
      "name": "python3",
      "display_name": "Python 3"
    },
    "language_info": {
      "name": "python"
    }
  },
  "cells": [
    {
      "cell_type": "markdown",
      "metadata": {
        "id": "view-in-github",
        "colab_type": "text"
      },
      "source": [
        "<a href=\"https://colab.research.google.com/github/yunju05/Practice/blob/main/3_19_digital_literacy.ipynb\" target=\"_parent\"><img src=\"https://colab.research.google.com/assets/colab-badge.svg\" alt=\"Open In Colab\"/></a>"
      ]
    },
    {
      "cell_type": "markdown",
      "source": [
        "#Built-in function practice& simple app using gradio"
      ],
      "metadata": {
        "id": "Rx_ITgZTBNEK"
      }
    },
    {
      "cell_type": "code",
      "execution_count": 8,
      "metadata": {
        "id": "kQ9VM9acyLU7",
        "colab": {
          "base_uri": "https://localhost:8080/"
        },
        "outputId": "61d96919-f8c1-4669-ed4c-d975cf9ea17b"
      },
      "outputs": [
        {
          "name": "stdout",
          "output_type": "stream",
          "text": [
            "red apple\n"
          ]
        }
      ],
      "source": [
        "#input()\n",
        "user_text=input()"
      ]
    },
    {
      "cell_type": "code",
      "source": [
        "user_text.split()"
      ],
      "metadata": {
        "id": "g64yAZXTB1u8",
        "colab": {
          "base_uri": "https://localhost:8080/"
        },
        "outputId": "71f356e0-b6a9-41e4-e242-b0018c0c8af8"
      },
      "execution_count": 9,
      "outputs": [
        {
          "output_type": "execute_result",
          "data": {
            "text/plain": [
              "['red', 'apple']"
            ]
          },
          "metadata": {},
          "execution_count": 9
        }
      ]
    },
    {
      "cell_type": "code",
      "source": [
        "len(user_text.split())"
      ],
      "metadata": {
        "id": "TqyytX8oCoVy",
        "colab": {
          "base_uri": "https://localhost:8080/"
        },
        "outputId": "95beeb46-de93-474d-d01f-08625316b937"
      },
      "execution_count": 10,
      "outputs": [
        {
          "output_type": "execute_result",
          "data": {
            "text/plain": [
              "2"
            ]
          },
          "metadata": {},
          "execution_count": 10
        }
      ]
    },
    {
      "cell_type": "code",
      "source": [
        "len(user_text)"
      ],
      "metadata": {
        "colab": {
          "base_uri": "https://localhost:8080/"
        },
        "id": "hXwkpiI0D8zH",
        "outputId": "07c2cec4-5622-499c-b640-6390bca69bfc"
      },
      "execution_count": 11,
      "outputs": [
        {
          "output_type": "execute_result",
          "data": {
            "text/plain": [
              "9"
            ]
          },
          "metadata": {},
          "execution_count": 11
        }
      ]
    },
    {
      "cell_type": "code",
      "source": [],
      "metadata": {
        "id": "6012f4UEEze5"
      },
      "execution_count": null,
      "outputs": []
    },
    {
      "cell_type": "markdown",
      "source": [
        "##F-string(python 3.6)"
      ],
      "metadata": {
        "id": "V5YL8yOjEl6d"
      }
    },
    {
      "cell_type": "code",
      "source": [
        "name = \"alice\"\n",
        "age = 23\n",
        "print(f\"My name is {name} and I'm {age} years old. \")"
      ],
      "metadata": {
        "colab": {
          "base_uri": "https://localhost:8080/"
        },
        "id": "b1d3KIlSEsS4",
        "outputId": "cef04496-4ca3-4e5b-cbe0-6a17a9102e9b"
      },
      "execution_count": 13,
      "outputs": [
        {
          "output_type": "stream",
          "name": "stdout",
          "text": [
            "My name is alice and I'm 23 years old. \n"
          ]
        }
      ]
    },
    {
      "cell_type": "code",
      "source": [
        "name = input()\n",
        "age = input()\n",
        "print(f\"My name is {name} and I'm {age} years old. \")"
      ],
      "metadata": {
        "colab": {
          "base_uri": "https://localhost:8080/"
        },
        "outputId": "8bba83a8-939f-4d67-c0bf-03c416ecae1a",
        "id": "hhPD0msvFnQ7"
      },
      "execution_count": 14,
      "outputs": [
        {
          "output_type": "stream",
          "name": "stdout",
          "text": [
            "mike\n",
            "34\n",
            "My name is mike and I'm 34 years old. \n"
          ]
        }
      ]
    },
    {
      "cell_type": "markdown",
      "source": [
        "## Practice Python function"
      ],
      "metadata": {
        "id": "YYKyalSlGbch"
      }
    },
    {
      "cell_type": "code",
      "source": [
        "def count_words(sent):\n",
        "  sent_split = sent.split()\n",
        "  sent_len = len(sent_split)\n",
        "  return sent_len\n",
        "\n",
        "  count_words(\"this is a test sentence.\")"
      ],
      "metadata": {
        "id": "sYaFMSMjGbK8"
      },
      "execution_count": 19,
      "outputs": []
    },
    {
      "cell_type": "markdown",
      "source": [
        "##using gradio"
      ],
      "metadata": {
        "id": "B0W_3wg3HNpd"
      }
    },
    {
      "cell_type": "code",
      "source": [
        "%%capture\n",
        "!pip install gradio"
      ],
      "metadata": {
        "id": "YV7Ai-jdHMua"
      },
      "execution_count": 16,
      "outputs": []
    },
    {
      "cell_type": "code",
      "source": [
        "# App code\n",
        "import gradio as gr\n",
        "\n",
        "# Define function\n",
        "def count_words(sent):\n",
        "  sent_split = sent.split()\n",
        "  sent_len = len(sent_split)\n",
        "  return sent_len\n",
        "\n",
        "# Create the Gradio app\n",
        "app = gr.Interface(\n",
        "    fn=count_words,\n",
        "    inputs=gr.Textbox(),\n",
        "    outputs=gr.Textbox(),\n",
        ")\n",
        "\n",
        "# Run the application\n",
        "app.launch()"
      ],
      "metadata": {
        "colab": {
          "base_uri": "https://localhost:8080/",
          "height": 648
        },
        "id": "u2uZqMmXIAsh",
        "outputId": "c9c17012-ca52-454e-fcf1-a148b4f1f73a"
      },
      "execution_count": 18,
      "outputs": [
        {
          "output_type": "stream",
          "name": "stdout",
          "text": [
            "Running Gradio in a Colab notebook requires sharing enabled. Automatically setting `share=True` (you can turn this off by setting `share=False` in `launch()` explicitly).\n",
            "\n",
            "Colab notebook detected. To show errors in colab notebook, set debug=True in launch()\n",
            "* Running on public URL: https://5bbdb485f8715ccce0.gradio.live\n",
            "\n",
            "This share link expires in 72 hours. For free permanent hosting and GPU upgrades, run `gradio deploy` from the terminal in the working directory to deploy to Hugging Face Spaces (https://huggingface.co/spaces)\n"
          ]
        },
        {
          "output_type": "display_data",
          "data": {
            "text/plain": [
              "<IPython.core.display.HTML object>"
            ],
            "text/html": [
              "<div><iframe src=\"https://5bbdb485f8715ccce0.gradio.live\" width=\"100%\" height=\"500\" allow=\"autoplay; camera; microphone; clipboard-read; clipboard-write;\" frameborder=\"0\" allowfullscreen></iframe></div>"
            ]
          },
          "metadata": {}
        },
        {
          "output_type": "execute_result",
          "data": {
            "text/plain": []
          },
          "metadata": {},
          "execution_count": 18
        }
      ]
    },
    {
      "cell_type": "markdown",
      "source": [
        "## more code to improve the above application"
      ],
      "metadata": {
        "id": "2qYoA42xIhxi"
      }
    },
    {
      "cell_type": "code",
      "source": [
        "import gradio as gr\n",
        "\n",
        "def count_words(sent):\n",
        "    \"\"\"Counts the number of words in a given sentence.\"\"\"\n",
        "    sent_split = sent.split()\n",
        "    sent_len = len(sent_split)\n",
        "    return sent_len\n",
        "\n",
        "# Create the Gradio app\n",
        "app = gr.Interface(\n",
        "    fn=count_words,\n",
        "    inputs=gr.Textbox(label=\"Enter a sentence\", placeholder=\"Type here...\"),\n",
        "    outputs=gr.Textbox(label=\"Word Count\", interactive=False),\n",
        "    title=\"Word Count Tool\",\n",
        "    description=\"This app counts the number of words in the sentence you enter.\"\n",
        ")\n",
        "\n",
        "# Run the app\n",
        "app.launch()\n"
      ],
      "metadata": {
        "id": "YiF2AT_D7Lud",
        "colab": {
          "base_uri": "https://localhost:8080/",
          "height": 648
        },
        "outputId": "1069cb27-7c7a-41ec-e311-a617a240a4a7"
      },
      "execution_count": 20,
      "outputs": [
        {
          "output_type": "stream",
          "name": "stdout",
          "text": [
            "Running Gradio in a Colab notebook requires sharing enabled. Automatically setting `share=True` (you can turn this off by setting `share=False` in `launch()` explicitly).\n",
            "\n",
            "Colab notebook detected. To show errors in colab notebook, set debug=True in launch()\n",
            "* Running on public URL: https://94884de2f2bad70080.gradio.live\n",
            "\n",
            "This share link expires in 72 hours. For free permanent hosting and GPU upgrades, run `gradio deploy` from the terminal in the working directory to deploy to Hugging Face Spaces (https://huggingface.co/spaces)\n"
          ]
        },
        {
          "output_type": "display_data",
          "data": {
            "text/plain": [
              "<IPython.core.display.HTML object>"
            ],
            "text/html": [
              "<div><iframe src=\"https://94884de2f2bad70080.gradio.live\" width=\"100%\" height=\"500\" allow=\"autoplay; camera; microphone; clipboard-read; clipboard-write;\" frameborder=\"0\" allowfullscreen></iframe></div>"
            ]
          },
          "metadata": {}
        },
        {
          "output_type": "execute_result",
          "data": {
            "text/plain": []
          },
          "metadata": {},
          "execution_count": 20
        }
      ]
    }
  ]
}
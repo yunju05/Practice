{
  "nbformat": 4,
  "nbformat_minor": 0,
  "metadata": {
    "colab": {
      "provenance": [],
      "authorship_tag": "ABX9TyOVJT1K4kAROWORgz0nG1TU",
      "include_colab_link": true
    },
    "kernelspec": {
      "name": "python3",
      "display_name": "Python 3"
    },
    "language_info": {
      "name": "python"
    }
  },
  "cells": [
    {
      "cell_type": "markdown",
      "metadata": {
        "id": "view-in-github",
        "colab_type": "text"
      },
      "source": [
        "<a href=\"https://colab.research.google.com/github/yunju05/Practice/blob/main/3_19_digital_literacy.ipynb\" target=\"_parent\"><img src=\"https://colab.research.google.com/assets/colab-badge.svg\" alt=\"Open In Colab\"/></a>"
      ]
    },
    {
      "cell_type": "markdown",
      "source": [
        "#Built-in function practice& simple app using gradio"
      ],
      "metadata": {
        "id": "Rx_ITgZTBNEK"
      }
    },
    {
      "cell_type": "code",
      "execution_count": null,
      "metadata": {
        "id": "kQ9VM9acyLU7"
      },
      "outputs": [],
      "source": [
        "#input()\n",
        "user_text=input()"
      ]
    },
    {
      "cell_type": "code",
      "source": [
        "user_text.split()"
      ],
      "metadata": {
        "id": "g64yAZXTB1u8"
      },
      "execution_count": null,
      "outputs": []
    },
    {
      "cell_type": "code",
      "source": [],
      "metadata": {
        "id": "TqyytX8oCoVy"
      },
      "execution_count": null,
      "outputs": []
    }
  ]
}
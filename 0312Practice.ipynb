{
  "nbformat": 4,
  "nbformat_minor": 0,
  "metadata": {
    "colab": {
      "provenance": [],
      "authorship_tag": "ABX9TyOkCeJWKTV9LmO6uXaKwQl2",
      "include_colab_link": true
    },
    "kernelspec": {
      "name": "python3",
      "display_name": "Python 3"
    },
    "language_info": {
      "name": "python"
    }
  },
  "cells": [
    {
      "cell_type": "markdown",
      "metadata": {
        "id": "view-in-github",
        "colab_type": "text"
      },
      "source": [
        "<a href=\"https://colab.research.google.com/github/yunju05/Practice/blob/main/0312Practice.ipynb\" target=\"_parent\"><img src=\"https://colab.research.google.com/assets/colab-badge.svg\" alt=\"Open In Colab\"/></a>"
      ]
    },
    {
      "cell_type": "markdown",
      "source": [
        "#Lesson3.1 Comment and code cells\n",
        "\n",
        "by yunju05"
      ],
      "metadata": {
        "id": "ch3drfqW2B9g"
      }
    },
    {
      "cell_type": "code",
      "execution_count": 4,
      "metadata": {
        "colab": {
          "base_uri": "https://localhost:8080/"
        },
        "id": "wEf3gdxl1qx2",
        "outputId": "964591e1-e69e-4ca4-ace6-9f8e20a6a06b"
      },
      "outputs": [
        {
          "output_type": "stream",
          "name": "stdout",
          "text": [
            "hello\n"
          ]
        }
      ],
      "source": [
        "#My first python function\n",
        "print(\"hello\")"
      ]
    },
    {
      "cell_type": "code",
      "source": [
        "# This is a comment line <= This is a comment line\n",
        "# Comments can be more than one line\n",
        "\n",
        "print(\"Hello, Python!\") # This is a code line\n",
        "print('This is the output') # Comment can also be written this way."
      ],
      "metadata": {
        "colab": {
          "base_uri": "https://localhost:8080/"
        },
        "id": "tCN-90PL4To2",
        "outputId": "9b4d476b-f725-4d5d-9e96-7ea1330d634d"
      },
      "execution_count": 5,
      "outputs": [
        {
          "output_type": "stream",
          "name": "stdout",
          "text": [
            "Hello, Python!\n",
            "This is the output\n"
          ]
        }
      ]
    },
    {
      "cell_type": "markdown",
      "source": [
        "## 3.2 Input and Output\n"
      ],
      "metadata": {
        "id": "62zcR9I74b5D"
      }
    },
    {
      "cell_type": "code",
      "source": [
        "import requests\n",
        "\n",
        "# Link to your raw text file\n",
        "url = \"https://raw.githubusercontent.com/MK316/Coding4ET/main/data/sample.txt\"\n",
        "\n",
        "# Reading the file content\n",
        "mydata = requests.get(url)\n",
        "content = mydata.text\n",
        "\n",
        "# Displaying the content\n",
        "print(content)"
      ],
      "metadata": {
        "colab": {
          "base_uri": "https://localhost:8080/"
        },
        "id": "dyUP-Aal4lEJ",
        "outputId": "136f8a9a-be46-4ab4-8444-a09345ea5c88"
      },
      "execution_count": 6,
      "outputs": [
        {
          "output_type": "stream",
          "name": "stdout",
          "text": [
            "A Fox one day spied a beautiful bunch of ripe grapes hanging from a vine trained along the branches of a tree. The grapes seemed ready to burst with juice, and the Fox's mouth watered as he gazed longingly at them.\n",
            "\n",
            "The bunch hung from a high branch, and the Fox had to jump for it. The first time he jumped he missed it by a long way. So he walked off a short distance and took a running leap at it, only to fall short once more. Again and again he tried, but in vain.\n",
            "\n",
            "Now he sat down and looked at the grapes in disgust.\n",
            "\n"
          ]
        }
      ]
    },
    {
      "cell_type": "code",
      "source": [
        "from IPython.display import Image, display\n",
        "\n",
        "# URL of your image on GitHub (raw link)\n",
        "url = \"https://raw.githubusercontent.com/MK316/Coding4ET/main/images/logo.png\"\n",
        "\n",
        "# Display the image directly from the URL\n",
        "display(Image(url=url))\n"
      ],
      "metadata": {
        "colab": {
          "base_uri": "https://localhost:8080/",
          "height": 342
        },
        "id": "dQgpoLNV9gSN",
        "outputId": "2dd6afc6-34c4-4744-8812-57b64a7c7793"
      },
      "execution_count": 8,
      "outputs": [
        {
          "output_type": "display_data",
          "data": {
            "text/html": [
              "<img src=\"https://raw.githubusercontent.com/MK316/Coding4ET/main/images/logo.png\"/>"
            ],
            "text/plain": [
              "<IPython.core.display.Image object>"
            ]
          },
          "metadata": {}
        }
      ]
    },
    {
      "cell_type": "markdown",
      "source": [
        "##3.3 Variables"
      ],
      "metadata": {
        "id": "fo9u5GFT_Gvn"
      }
    },
    {
      "cell_type": "code",
      "source": [
        "x = 5\n",
        "y = \"Hello, World!\"\n",
        "\n",
        "print(x)\n",
        "print(y)\n"
      ],
      "metadata": {
        "colab": {
          "base_uri": "https://localhost:8080/"
        },
        "id": "-a3Oaqa3_K7I",
        "outputId": "dbba623c-c439-4209-ca36-5d113bf4a941"
      },
      "execution_count": 9,
      "outputs": [
        {
          "output_type": "stream",
          "name": "stdout",
          "text": [
            "5\n",
            "Hello, World!\n"
          ]
        }
      ]
    },
    {
      "cell_type": "code",
      "source": [
        "a = 5\n",
        "b = \"120\"\n",
        "c = a * b\n",
        "print(c)\n",
        "\n",
        "a = 100\n",
        "b = \"_\"\n",
        "c = a * b\n",
        "print(c)\n",
        "\n",
        "print(\"I see !\")\n",
        "\n"
      ],
      "metadata": {
        "colab": {
          "base_uri": "https://localhost:8080/"
        },
        "id": "O6YyHJPeB7gT",
        "outputId": "dfbfc33e-5f06-44c8-e34f-d4d7376d78d4"
      },
      "execution_count": 19,
      "outputs": [
        {
          "output_type": "stream",
          "name": "stdout",
          "text": [
            "120120120120120\n",
            "____________________________________________________________________________________________________\n",
            "I see !\n"
          ]
        }
      ]
    },
    {
      "cell_type": "code",
      "source": [
        "# Cell 1: Creating Variables\n",
        "name = \"John Doe\"\n",
        "age = 30\n",
        "height = 5.9\n",
        "is_student = False"
      ],
      "metadata": {
        "id": "CcojjEwPFUo8"
      },
      "execution_count": 20,
      "outputs": []
    },
    {
      "cell_type": "code",
      "source": [
        "# Cell 2: Working with Variables\n",
        "print(f\"Name: {name}\")\n",
        "print(f\"Age: {age}\")\n",
        "print(f\"Height: {height} feet\")\n",
        "print(f\"Is a student: {is_student}\")"
      ],
      "metadata": {
        "colab": {
          "base_uri": "https://localhost:8080/"
        },
        "id": "qX77ZICGFeRv",
        "outputId": "b99e7faf-3c54-4e0b-dc43-381fc2ddff05"
      },
      "execution_count": 21,
      "outputs": [
        {
          "output_type": "stream",
          "name": "stdout",
          "text": [
            "Name: John Doe\n",
            "Age: 30\n",
            "Height: 5.9 feet\n",
            "Is a student: False\n"
          ]
        }
      ]
    },
    {
      "cell_type": "code",
      "source": [
        "# Cell 3: Changing Variable Value\n",
        "age = 31      # Note that the value '30' was assigned to the variable 'age' in the Cell 2\n",
        "print(f\"Updated Age: {age}\")"
      ],
      "metadata": {
        "colab": {
          "base_uri": "https://localhost:8080/"
        },
        "id": "J0MhokmCGJFY",
        "outputId": "9844127b-e3c6-40cd-8a94-34b0065b095f"
      },
      "execution_count": 22,
      "outputs": [
        {
          "output_type": "stream",
          "name": "stdout",
          "text": [
            "Updated Age: 31\n"
          ]
        }
      ]
    }
  ]
}
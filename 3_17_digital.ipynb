{
  "nbformat": 4,
  "nbformat_minor": 0,
  "metadata": {
    "colab": {
      "provenance": [],
      "authorship_tag": "ABX9TyPBxPXdacZDRbDuv7Vqokw1",
      "include_colab_link": true
    },
    "kernelspec": {
      "name": "python3",
      "display_name": "Python 3"
    },
    "language_info": {
      "name": "python"
    }
  },
  "cells": [
    {
      "cell_type": "markdown",
      "metadata": {
        "id": "view-in-github",
        "colab_type": "text"
      },
      "source": [
        "<a href=\"https://colab.research.google.com/github/yunju05/Practice/blob/main/3_17_digital.ipynb\" target=\"_parent\"><img src=\"https://colab.research.google.com/assets/colab-badge.svg\" alt=\"Open In Colab\"/></a>"
      ]
    },
    {
      "cell_type": "markdown",
      "source": [
        "# Lesson 3 Review and 3.4~\n"
      ],
      "metadata": {
        "id": "6GlF4l54SW2V"
      }
    },
    {
      "cell_type": "code",
      "source": [
        "What_your_name = input(\"Hi, what's your name?\")\n",
        "print(f\"Hello, {What_your_name}! Nice to meet you.\")\n",
        "Where_are_you_from = input(\"Where are you from?\")\n",
        "print(f\"You'are from{Where_are_you_from}! I'm from{Where_are_you_from} too! Glad to talk you.\")\n"
      ],
      "metadata": {
        "colab": {
          "base_uri": "https://localhost:8080/"
        },
        "id": "lTrFx4vPSeU9",
        "outputId": "be3f3c57-3d46-436b-af0a-18ab13cde0d1"
      },
      "execution_count": null,
      "outputs": [
        {
          "output_type": "stream",
          "name": "stdout",
          "text": [
            "Hi, what's your name? yunju\n",
            "Hello,  yunju! Nice to meet you.\n",
            "Where are you from? geoje\n",
            "You'are from geoje! I'm from  geoje too! Glad to talk you.\n"
          ]
        }
      ]
    },
    {
      "cell_type": "markdown",
      "source": [
        "##3.4A Operator practice"
      ],
      "metadata": {
        "id": "1y0LoYnx3bH8"
      }
    },
    {
      "cell_type": "code",
      "execution_count": null,
      "metadata": {
        "id": "L8GEIh12q8hE",
        "colab": {
          "base_uri": "https://localhost:8080/"
        },
        "outputId": "600f568a-2643-45b3-f2d2-cfcaf6f8ce0c"
      },
      "outputs": [
        {
          "output_type": "stream",
          "name": "stdout",
          "text": [
            "Welcome to the Simple Calculator!\n",
            "You can perform addition, subtraction, multiplication, and division.\n",
            "\n",
            "Enter the first number (x): 343.343445\n",
            "Choose the operation (+, -, *, /): *\n",
            "Enter the second number (y): 342883948498234\n",
            "The result of 343.343445 * 342883948498234.0 is 1.1772695611258622e+17.\n"
          ]
        }
      ],
      "source": [
        "def calculator():\n",
        "    print(\"Welcome to the Simple Calculator!\")\n",
        "    print(\"You can perform addition, subtraction, multiplication, and division.\\n\")\n",
        "\n",
        "    # Get the first number from the user\n",
        "    x = float(input(\"Enter the first number (x): \"))\n",
        "\n",
        "    # Get the operation from the user\n",
        "    operation = input(\"Choose the operation (+, -, *, /): \")\n",
        "\n",
        "    # Get the second number from the user\n",
        "    y = float(input(\"Enter the second number (y): \"))\n",
        "\n",
        "    # Perform the calculation based on the operation\n",
        "    if operation == '+':\n",
        "        result = x + y\n",
        "        print(f\"The result of {x} + {y} is {result}.\")\n",
        "    elif operation == '-':\n",
        "        result = x - y\n",
        "        print(f\"The result of {x} - {y} is {result}.\")\n",
        "    elif operation == '*':\n",
        "        result = x * y\n",
        "        print(f\"The result of {x} * {y} is {result}.\")\n",
        "    elif operation == '/':\n",
        "        # Check if the second number is not zero to avoid division by zero error\n",
        "        if y != 0:\n",
        "            result = x / y\n",
        "            print(f\"The result of {x} / {y} is {result}.\")\n",
        "        else:\n",
        "            print(\"Division by zero is not allowed.\")\n",
        "    else:\n",
        "        print(\"Invalid operation. Please select one of +, -, *, or /.\")\n",
        "\n",
        "# Run the calculator\n",
        "calculator()\n"
      ]
    },
    {
      "cell_type": "markdown",
      "source": [
        "## Sample appliciatoin"
      ],
      "metadata": {
        "id": "iZkxGQ4629XF"
      }
    },
    {
      "cell_type": "code",
      "source": [
        "%%capture\n",
        "!pip install gradio"
      ],
      "metadata": {
        "id": "d2RPn58HbtHM"
      },
      "execution_count": 3,
      "outputs": []
    },
    {
      "cell_type": "code",
      "source": [
        "#@markdown 🌀 Calculator app with Gradio\n",
        "import gradio as gr\n",
        "\n",
        "def calculate(x, operation, y):\n",
        "    if operation == '+':\n",
        "        result = x + y\n",
        "    elif operation == '-':\n",
        "        result = x - y\n",
        "    elif operation == '*':\n",
        "        result = x * y\n",
        "    elif operation == '/':\n",
        "        if y != 0:\n",
        "            result = x / y\n",
        "        else:\n",
        "            return \"Division by zero is not allowed.\"\n",
        "    else:\n",
        "        return \"Invalid operation.\"\n",
        "\n",
        "    return f\"The result of {x} {operation} {y} is {result}.\"\n",
        "\n",
        "def main():\n",
        "    interface = gr.Interface(\n",
        "        fn=calculate,\n",
        "        inputs=[\n",
        "            gr.Number(label=\"First Number (x)\"),\n",
        "            gr.Dropdown(choices=['+', '-', '*', '/'], label=\"Operation\"),\n",
        "            gr.Number(label=\"Second Number (y)\")\n",
        "        ],\n",
        "        outputs=\"text\",\n",
        "        title=\"Simple Calculator\",\n",
        "        description=\"Select two numbers and an operation to see the result.\"\n",
        "    )\n",
        "    interface.launch()\n",
        "\n",
        "if __name__ == \"__main__\":\n",
        "    main()\n"
      ],
      "metadata": {
        "id": "KbF99-ggruNN",
        "colab": {
          "base_uri": "https://localhost:8080/",
          "height": 648
        },
        "outputId": "ace3a0f0-78a9-4c73-b813-ed73c0b3d2a8"
      },
      "execution_count": 4,
      "outputs": [
        {
          "output_type": "stream",
          "name": "stdout",
          "text": [
            "Running Gradio in a Colab notebook requires sharing enabled. Automatically setting `share=True` (you can turn this off by setting `share=False` in `launch()` explicitly).\n",
            "\n",
            "Colab notebook detected. To show errors in colab notebook, set debug=True in launch()\n",
            "* Running on public URL: https://70fa36c5770730746e.gradio.live\n",
            "\n",
            "This share link expires in 72 hours. For free permanent hosting and GPU upgrades, run `gradio deploy` from the terminal in the working directory to deploy to Hugging Face Spaces (https://huggingface.co/spaces)\n"
          ]
        },
        {
          "output_type": "display_data",
          "data": {
            "text/plain": [
              "<IPython.core.display.HTML object>"
            ],
            "text/html": [
              "<div><iframe src=\"https://70fa36c5770730746e.gradio.live\" width=\"100%\" height=\"500\" allow=\"autoplay; camera; microphone; clipboard-read; clipboard-write;\" frameborder=\"0\" allowfullscreen></iframe></div>"
            ]
          },
          "metadata": {}
        }
      ]
    },
    {
      "cell_type": "markdown",
      "source": [
        "##3.4B Comparison operator"
      ],
      "metadata": {
        "id": "i2ghwQFP3h5E"
      }
    },
    {
      "cell_type": "markdown",
      "source": [
        "##sample app2"
      ],
      "metadata": {
        "id": "41ud1vHp3sxX"
      }
    },
    {
      "cell_type": "code",
      "source": [
        "#@markdown 🌀 Number guessing game\n",
        "\n",
        "import random\n",
        "\n",
        "def number_guessing_game():\n",
        "    print(\"Welcome to the Number Guessing Game!\")\n",
        "    print(\"I'm thinking of a number between 1 and 100.\")\n",
        "\n",
        "    # Generate a random number between 1 and 100\n",
        "    target_number = random.randint(1, 1000)\n",
        "\n",
        "    # Initialize the guess variable with a value that cannot be the target\n",
        "    guess = 0\n",
        "    trials = 0  # Initialize the trials counter\n",
        "\n",
        "    # Continue to ask for guesses until the user guesses the target number\n",
        "    while guess != target_number:\n",
        "        # Get the user's guess\n",
        "        guess = int(input(\"Enter your guess: \"))\n",
        "        trials += 1  # Increment the trial counter each time the user makes a guess\n",
        "\n",
        "        # Provide feedback based on the guess\n",
        "        if guess < target_number:\n",
        "            print(\"It's greater than that.\")\n",
        "        elif guess > target_number:\n",
        "            print(\"It's less than that.\")\n",
        "\n",
        "    # When the guess is correct, print the congratulatory message with the number of trials\n",
        "    print(f\"Congratulations! You guessed the number correctly after {trials} {'trial' if trials == 1 else 'trials'}.\")\n",
        "\n",
        "number_guessing_game()\n",
        "\n"
      ],
      "metadata": {
        "id": "EWj-uMays4bf",
        "colab": {
          "base_uri": "https://localhost:8080/",
          "height": 418
        },
        "outputId": "ec7dbf51-da64-482c-91af-fc70f4be4567"
      },
      "execution_count": 8,
      "outputs": [
        {
          "output_type": "stream",
          "name": "stdout",
          "text": [
            "Welcome to the Number Guessing Game!\n",
            "I'm thinking of a number between 1 and 100.\n"
          ]
        },
        {
          "output_type": "error",
          "ename": "KeyboardInterrupt",
          "evalue": "Interrupted by user",
          "traceback": [
            "\u001b[0;31m---------------------------------------------------------------------------\u001b[0m",
            "\u001b[0;31mKeyboardInterrupt\u001b[0m                         Traceback (most recent call last)",
            "\u001b[0;32m<ipython-input-8-4d614acde9da>\u001b[0m in \u001b[0;36m<cell line: 0>\u001b[0;34m()\u001b[0m\n\u001b[1;32m     29\u001b[0m     \u001b[0mprint\u001b[0m\u001b[0;34m(\u001b[0m\u001b[0;34mf\"Congratulations! You guessed the number correctly after {trials} {'trial' if trials == 1 else 'trials'}.\"\u001b[0m\u001b[0;34m)\u001b[0m\u001b[0;34m\u001b[0m\u001b[0;34m\u001b[0m\u001b[0m\n\u001b[1;32m     30\u001b[0m \u001b[0;34m\u001b[0m\u001b[0m\n\u001b[0;32m---> 31\u001b[0;31m \u001b[0mnumber_guessing_game\u001b[0m\u001b[0;34m(\u001b[0m\u001b[0;34m)\u001b[0m\u001b[0;34m\u001b[0m\u001b[0;34m\u001b[0m\u001b[0m\n\u001b[0m\u001b[1;32m     32\u001b[0m \u001b[0;34m\u001b[0m\u001b[0m\n",
            "\u001b[0;32m<ipython-input-8-4d614acde9da>\u001b[0m in \u001b[0;36mnumber_guessing_game\u001b[0;34m()\u001b[0m\n\u001b[1;32m     17\u001b[0m     \u001b[0;32mwhile\u001b[0m \u001b[0mguess\u001b[0m \u001b[0;34m!=\u001b[0m \u001b[0mtarget_number\u001b[0m\u001b[0;34m:\u001b[0m\u001b[0;34m\u001b[0m\u001b[0;34m\u001b[0m\u001b[0m\n\u001b[1;32m     18\u001b[0m         \u001b[0;31m# Get the user's guess\u001b[0m\u001b[0;34m\u001b[0m\u001b[0;34m\u001b[0m\u001b[0m\n\u001b[0;32m---> 19\u001b[0;31m         \u001b[0mguess\u001b[0m \u001b[0;34m=\u001b[0m \u001b[0mint\u001b[0m\u001b[0;34m(\u001b[0m\u001b[0minput\u001b[0m\u001b[0;34m(\u001b[0m\u001b[0;34m\"Enter your guess: \"\u001b[0m\u001b[0;34m)\u001b[0m\u001b[0;34m)\u001b[0m\u001b[0;34m\u001b[0m\u001b[0;34m\u001b[0m\u001b[0m\n\u001b[0m\u001b[1;32m     20\u001b[0m         \u001b[0mtrials\u001b[0m \u001b[0;34m+=\u001b[0m \u001b[0;36m1\u001b[0m  \u001b[0;31m# Increment the trial counter each time the user makes a guess\u001b[0m\u001b[0;34m\u001b[0m\u001b[0;34m\u001b[0m\u001b[0m\n\u001b[1;32m     21\u001b[0m \u001b[0;34m\u001b[0m\u001b[0m\n",
            "\u001b[0;32m/usr/local/lib/python3.11/dist-packages/ipykernel/kernelbase.py\u001b[0m in \u001b[0;36mraw_input\u001b[0;34m(self, prompt)\u001b[0m\n\u001b[1;32m   1175\u001b[0m                 \u001b[0;34m\"raw_input was called, but this frontend does not support input requests.\"\u001b[0m\u001b[0;34m\u001b[0m\u001b[0;34m\u001b[0m\u001b[0m\n\u001b[1;32m   1176\u001b[0m             )\n\u001b[0;32m-> 1177\u001b[0;31m         return self._input_request(\n\u001b[0m\u001b[1;32m   1178\u001b[0m             \u001b[0mstr\u001b[0m\u001b[0;34m(\u001b[0m\u001b[0mprompt\u001b[0m\u001b[0;34m)\u001b[0m\u001b[0;34m,\u001b[0m\u001b[0;34m\u001b[0m\u001b[0;34m\u001b[0m\u001b[0m\n\u001b[1;32m   1179\u001b[0m             \u001b[0mself\u001b[0m\u001b[0;34m.\u001b[0m\u001b[0m_parent_ident\u001b[0m\u001b[0;34m[\u001b[0m\u001b[0;34m\"shell\"\u001b[0m\u001b[0;34m]\u001b[0m\u001b[0;34m,\u001b[0m\u001b[0;34m\u001b[0m\u001b[0;34m\u001b[0m\u001b[0m\n",
            "\u001b[0;32m/usr/local/lib/python3.11/dist-packages/ipykernel/kernelbase.py\u001b[0m in \u001b[0;36m_input_request\u001b[0;34m(self, prompt, ident, parent, password)\u001b[0m\n\u001b[1;32m   1217\u001b[0m             \u001b[0;32mexcept\u001b[0m \u001b[0mKeyboardInterrupt\u001b[0m\u001b[0;34m:\u001b[0m\u001b[0;34m\u001b[0m\u001b[0;34m\u001b[0m\u001b[0m\n\u001b[1;32m   1218\u001b[0m                 \u001b[0;31m# re-raise KeyboardInterrupt, to truncate traceback\u001b[0m\u001b[0;34m\u001b[0m\u001b[0;34m\u001b[0m\u001b[0m\n\u001b[0;32m-> 1219\u001b[0;31m                 \u001b[0;32mraise\u001b[0m \u001b[0mKeyboardInterrupt\u001b[0m\u001b[0;34m(\u001b[0m\u001b[0;34m\"Interrupted by user\"\u001b[0m\u001b[0;34m)\u001b[0m \u001b[0;32mfrom\u001b[0m \u001b[0;32mNone\u001b[0m\u001b[0;34m\u001b[0m\u001b[0;34m\u001b[0m\u001b[0m\n\u001b[0m\u001b[1;32m   1220\u001b[0m             \u001b[0;32mexcept\u001b[0m \u001b[0mException\u001b[0m\u001b[0;34m:\u001b[0m\u001b[0;34m\u001b[0m\u001b[0;34m\u001b[0m\u001b[0m\n\u001b[1;32m   1221\u001b[0m                 \u001b[0mself\u001b[0m\u001b[0;34m.\u001b[0m\u001b[0mlog\u001b[0m\u001b[0;34m.\u001b[0m\u001b[0mwarning\u001b[0m\u001b[0;34m(\u001b[0m\u001b[0;34m\"Invalid Message:\"\u001b[0m\u001b[0;34m,\u001b[0m \u001b[0mexc_info\u001b[0m\u001b[0;34m=\u001b[0m\u001b[0;32mTrue\u001b[0m\u001b[0;34m)\u001b[0m\u001b[0;34m\u001b[0m\u001b[0;34m\u001b[0m\u001b[0m\n",
            "\u001b[0;31mKeyboardInterrupt\u001b[0m: Interrupted by user"
          ]
        }
      ]
    },
    {
      "cell_type": "markdown",
      "source": [
        "##3.4C Logical operators"
      ],
      "metadata": {
        "id": "14pQXtbC4SNE"
      }
    },
    {
      "cell_type": "code",
      "source": [],
      "metadata": {
        "id": "d576UtLA4a65"
      },
      "execution_count": null,
      "outputs": []
    },
    {
      "cell_type": "markdown",
      "source": [],
      "metadata": {
        "id": "PE6sqOHm4zW-"
      }
    },
    {
      "cell_type": "code",
      "source": [
        "#markdown 🌀 Word guessing app\n",
        "\n",
        "import gradio as gr\n",
        "import random\n",
        "\n",
        "# Dictionary of words and their hints\n",
        "words_data = {\n",
        "    \"banana\": [\"yellow,sweet and soft fruit\", \"First letter: B\", \"Number of letters: 6\"],\n",
        "    \"python\": [\"a high-level programming language\", \"First letter: P\", \"Number of letters: 6\"],\n",
        "    \"galaxy\": [\"a system of stars and planets\", \"First letter: G\", \"Number of letters: 6\"],\n",
        "    \"ocean\": [\"a large body of salt water\", \"First letter: O\", \"Number of letters: 5\"],\n",
        "    \"quasar\": [\"a very energetic and distant active galactic nucleus\", \"First letter: Q\", \"Number of letters: 6\"],\n",
        "    \"volcano\": [\"a mountain or hill with a crater which lava, rock fragments, hot vapor and gas eruptions come from the earth's crust\", \"First letter: V\", \"Number of letters: 7\"]\n",
        "}\n",
        "\n",
        "current_word = \"\"\n",
        "hints = []\n",
        "hint_index = 0\n",
        "\n",
        "def start_game():\n",
        "    global current_word, hints, hint_index\n",
        "    current_word, hints = random.choice(list(words_data.items()))\n",
        "    hint_index = 0\n",
        "    return \"\\n\".join(hints[:1])  # Show only the first hint initially\n",
        "\n",
        "def more_hint():\n",
        "    global hint_index\n",
        "    if hint_index < len(hints) - 1:\n",
        "        hint_index += 1\n",
        "    return \"\\n\".join(hints[:hint_index + 1])\n",
        "\n",
        "def show_feedback(guess):\n",
        "    global current_word, hints, hint_index\n",
        "    if guess.lower() == current_word.lower():\n",
        "        current_word, hints = random.choice(list(words_data.items()))  # Reset for new word\n",
        "        hint_index = 0\n",
        "        return f\"Correct! The word was '{current_word}'. New word selected, press 'Start Game' to play again.\", \"\"\n",
        "    else:\n",
        "        if hint_index < len(hints) - 1:\n",
        "            return \"Incorrect! Try again.\", \"\\n\".join(hints[:hint_index + 1])\n",
        "        else:\n",
        "            return f\"Incorrect! The correct word was '{current_word}'. New word selected, press 'Start Game' to play again.\", \"\"\n",
        "\n",
        "def setup_interface():\n",
        "    with gr.Blocks() as iface:\n",
        "        gr.Markdown(\"### Word Guessing Game\")\n",
        "        gr.Markdown(\"Try to guess the word based on the hints provided!\")\n",
        "        with gr.Row():\n",
        "            start_button = gr.Button(\"Start Game\")\n",
        "            more_hint_button = gr.Button(\"More Hint\")\n",
        "        hint_display = gr.Textbox(label=\"Hint\", lines=3, interactive=False)\n",
        "        guess_input = gr.Textbox(label=\"Enter your guess here\")\n",
        "        submit_button = gr.Button(\"Show Feedback\")\n",
        "        result_display = gr.Textbox(label=\"Result\", lines=2, interactive=False)\n",
        "        start_button.click(fn=start_game, outputs=hint_display)\n",
        "        more_hint_button.click(fn=more_hint, outputs=hint_display)\n",
        "        submit_button.click(fn=show_feedback, inputs=guess_input, outputs=[result_display, hint_display])\n",
        "\n",
        "    iface.launch()\n",
        "\n",
        "if __name__ == \"__main__\":\n",
        "    setup_interface()\n"
      ],
      "metadata": {
        "id": "ipp6r9XsxktJ",
        "colab": {
          "base_uri": "https://localhost:8080/",
          "height": 648
        },
        "outputId": "f0b63fbb-09bb-4cf5-fe54-823febc56bb4"
      },
      "execution_count": 12,
      "outputs": [
        {
          "output_type": "stream",
          "name": "stdout",
          "text": [
            "Running Gradio in a Colab notebook requires sharing enabled. Automatically setting `share=True` (you can turn this off by setting `share=False` in `launch()` explicitly).\n",
            "\n",
            "Colab notebook detected. To show errors in colab notebook, set debug=True in launch()\n",
            "* Running on public URL: https://ac28d0e60684fc6486.gradio.live\n",
            "\n",
            "This share link expires in 72 hours. For free permanent hosting and GPU upgrades, run `gradio deploy` from the terminal in the working directory to deploy to Hugging Face Spaces (https://huggingface.co/spaces)\n"
          ]
        },
        {
          "output_type": "display_data",
          "data": {
            "text/plain": [
              "<IPython.core.display.HTML object>"
            ],
            "text/html": [
              "<div><iframe src=\"https://ac28d0e60684fc6486.gradio.live\" width=\"100%\" height=\"500\" allow=\"autoplay; camera; microphone; clipboard-read; clipboard-write;\" frameborder=\"0\" allowfullscreen></iframe></div>"
            ]
          },
          "metadata": {}
        }
      ]
    },
    {
      "cell_type": "markdown",
      "source": [
        "the above app doesn't match target words and correct answer"
      ],
      "metadata": {
        "id": "18HJVjk59Uaf"
      }
    }
  ]
}
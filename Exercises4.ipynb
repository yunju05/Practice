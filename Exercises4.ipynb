{
  "nbformat": 4,
  "nbformat_minor": 0,
  "metadata": {
    "colab": {
      "provenance": [],
      "authorship_tag": "ABX9TyPXRgvJGk4ikZOQXo/TH+mY",
      "include_colab_link": true
    },
    "kernelspec": {
      "name": "python3",
      "display_name": "Python 3"
    },
    "language_info": {
      "name": "python"
    }
  },
  "cells": [
    {
      "cell_type": "markdown",
      "metadata": {
        "id": "view-in-github",
        "colab_type": "text"
      },
      "source": [
        "<a href=\"https://colab.research.google.com/github/yunju05/Practice/blob/main/Exercises4.ipynb\" target=\"_parent\"><img src=\"https://colab.research.google.com/assets/colab-badge.svg\" alt=\"Open In Colab\"/></a>"
      ]
    },
    {
      "cell_type": "markdown",
      "source": [
        "# 4.1 Number"
      ],
      "metadata": {
        "id": "46sOqBVfP0UL"
      }
    },
    {
      "cell_type": "markdown",
      "source": [
        "## [1] Calculate the sum of 256 and 344, and print the result."
      ],
      "metadata": {
        "id": "2ZzuxNAAN6xr"
      }
    },
    {
      "cell_type": "code",
      "execution_count": null,
      "metadata": {
        "colab": {
          "base_uri": "https://localhost:8080/"
        },
        "id": "c5nOEIPYLvWi",
        "outputId": "fd2bcb76-84ef-4e3f-a508-14b7068cd3e7"
      },
      "outputs": [
        {
          "output_type": "stream",
          "name": "stdout",
          "text": [
            "600\n"
          ]
        }
      ],
      "source": [
        "sum = 256 + 344\n",
        "print(sum)"
      ]
    },
    {
      "cell_type": "code",
      "source": [
        "#DIY\n",
        "sum = 145+33.5\n",
        "print(sum)"
      ],
      "metadata": {
        "colab": {
          "base_uri": "https://localhost:8080/"
        },
        "id": "TyHKA0A2PKz5",
        "outputId": "dfc03fca-f367-444a-cef5-b0b0ea78425e"
      },
      "execution_count": null,
      "outputs": [
        {
          "output_type": "stream",
          "name": "stdout",
          "text": [
            "178.5\n"
          ]
        }
      ]
    },
    {
      "cell_type": "markdown",
      "source": [
        "## [2]Calculate the produst of 12.5 and 4.2"
      ],
      "metadata": {
        "id": "-2sF0v-uPdGp"
      }
    },
    {
      "cell_type": "code",
      "source": [
        "#DIY\n",
        "result = 12.5 * 4.2\n",
        "print(result)"
      ],
      "metadata": {
        "colab": {
          "base_uri": "https://localhost:8080/"
        },
        "id": "mqz96L5EPkSH",
        "outputId": "fe0f162d-743c-474c-a5a7-405cca03942b"
      },
      "execution_count": null,
      "outputs": [
        {
          "output_type": "stream",
          "name": "stdout",
          "text": [
            "52.5\n"
          ]
        }
      ]
    },
    {
      "cell_type": "markdown",
      "source": [
        "# 4.2 String"
      ],
      "metadata": {
        "id": "MX-bjQCGP504"
      }
    },
    {
      "cell_type": "markdown",
      "source": [
        "## [3] Create a variable containing \"Hello, world!\" and print it"
      ],
      "metadata": {
        "id": "LZ0MPJsHQAW8"
      }
    },
    {
      "cell_type": "code",
      "source": [
        "greeting = \"Hello world!\"\n",
        "print(greeting)\n"
      ],
      "metadata": {
        "colab": {
          "base_uri": "https://localhost:8080/"
        },
        "id": "P9pJg5LZQNlr",
        "outputId": "266b171e-4e3d-46ed-e197-cb49507ea88c"
      },
      "execution_count": null,
      "outputs": [
        {
          "output_type": "stream",
          "name": "stdout",
          "text": [
            "Hello world!\n"
          ]
        }
      ]
    },
    {
      "cell_type": "code",
      "source": [
        "mytext = \"Hello, world!\"\n",
        "print(mytext[7:12])"
      ],
      "metadata": {
        "colab": {
          "base_uri": "https://localhost:8080/"
        },
        "id": "om-d1iQhQWLn",
        "outputId": "3ce9635d-19fd-41b4-a808-040e101d218b"
      },
      "execution_count": null,
      "outputs": [
        {
          "output_type": "stream",
          "name": "stdout",
          "text": [
            "world\n"
          ]
        }
      ]
    },
    {
      "cell_type": "code",
      "source": [
        "# DIY\n",
        "mytext = \"Merry christmas!\"\n",
        "print(mytext[5:16])"
      ],
      "metadata": {
        "colab": {
          "base_uri": "https://localhost:8080/"
        },
        "outputId": "a9e4c355-d436-4ceb-884c-f77f6c2356fa",
        "id": "JAtZt3GdRR-N"
      },
      "execution_count": null,
      "outputs": [
        {
          "output_type": "stream",
          "name": "stdout",
          "text": [
            " christmas!\n"
          ]
        }
      ]
    },
    {
      "cell_type": "markdown",
      "source": [
        "## [5] Convert \"Hello world\" to uppercase and split it into two words"
      ],
      "metadata": {
        "id": "I8f7P9oFSCza"
      }
    },
    {
      "cell_type": "code",
      "source": [
        "mytext = \"hello world\"\n",
        "print(mytext)"
      ],
      "metadata": {
        "colab": {
          "base_uri": "https://localhost:8080/"
        },
        "id": "0VH9sFeWSQCG",
        "outputId": "1d40d45b-60b3-45fb-f537-5f74d1c0f2fc"
      },
      "execution_count": null,
      "outputs": [
        {
          "output_type": "stream",
          "name": "stdout",
          "text": [
            "hello world\n"
          ]
        }
      ]
    },
    {
      "cell_type": "code",
      "source": [
        "print(mytext.upper())"
      ],
      "metadata": {
        "colab": {
          "base_uri": "https://localhost:8080/"
        },
        "id": "aRXK_J0zSZkQ",
        "outputId": "39150d2a-b3bd-4e2e-d2bc-f87a8d7bd41b"
      },
      "execution_count": null,
      "outputs": [
        {
          "output_type": "stream",
          "name": "stdout",
          "text": [
            "HELLO WORLD\n"
          ]
        }
      ]
    },
    {
      "cell_type": "code",
      "source": [
        "print(mytext.split())"
      ],
      "metadata": {
        "colab": {
          "base_uri": "https://localhost:8080/"
        },
        "id": "znbrmsb5SZYN",
        "outputId": "8fa3a62d-7f58-4a18-ca62-70a6ba5e4a6c"
      },
      "execution_count": null,
      "outputs": [
        {
          "output_type": "stream",
          "name": "stdout",
          "text": [
            "['hello', 'world']\n"
          ]
        }
      ]
    },
    {
      "cell_type": "code",
      "source": [
        "mytext = \"hello world\"\n",
        "print(mytext.upper().split())"
      ],
      "metadata": {
        "colab": {
          "base_uri": "https://localhost:8080/"
        },
        "id": "ywkyiPw6Sg5f",
        "outputId": "e49b1c30-0b9a-4d74-bbe1-b214bbd11fef"
      },
      "execution_count": null,
      "outputs": [
        {
          "output_type": "stream",
          "name": "stdout",
          "text": [
            "['HELLO', 'WORLD']\n"
          ]
        }
      ]
    },
    {
      "cell_type": "markdown",
      "source": [
        "# 4.3 List"
      ],
      "metadata": {
        "id": "PenIzzpKaP72"
      }
    },
    {
      "cell_type": "markdown",
      "source": [
        "## [6] Create a list of the first four prime numbers and print the third one"
      ],
      "metadata": {
        "id": "J3B-nLcuaTCq"
      }
    },
    {
      "cell_type": "code",
      "source": [
        "prime = [2, 3, 5, 7]\n",
        "print(prime[2])"
      ],
      "metadata": {
        "colab": {
          "base_uri": "https://localhost:8080/"
        },
        "id": "UelQm2bkadkw",
        "outputId": "164929ae-c9d6-410f-f399-8b19fae1cfa8"
      },
      "execution_count": 1,
      "outputs": [
        {
          "output_type": "stream",
          "name": "stdout",
          "text": [
            "5\n"
          ]
        }
      ]
    },
    {
      "cell_type": "code",
      "source": [
        "# DIY\n",
        "prime = [0, 22, 33, 44]\n",
        "print(prime[2])"
      ],
      "metadata": {
        "colab": {
          "base_uri": "https://localhost:8080/"
        },
        "id": "5lARnCMHasRH",
        "outputId": "f41f3fd2-0af1-4a5d-bfc4-4e41e5aa3483"
      },
      "execution_count": 6,
      "outputs": [
        {
          "output_type": "stream",
          "name": "stdout",
          "text": [
            "33\n"
          ]
        }
      ]
    },
    {
      "cell_type": "markdown",
      "source": [
        "## [7] Append 11 to the prime numbers list and print the update list"
      ],
      "metadata": {
        "id": "WkVWXrijbF7g"
      }
    },
    {
      "cell_type": "code",
      "source": [
        "# DIY\n",
        "prime.append(11)\n",
        "print(prime)"
      ],
      "metadata": {
        "colab": {
          "base_uri": "https://localhost:8080/"
        },
        "id": "Qk10c0KNbFQM",
        "outputId": "b0421492-31e3-4abd-b7b3-4a863807b8ea"
      },
      "execution_count": 5,
      "outputs": [
        {
          "output_type": "stream",
          "name": "stdout",
          "text": [
            "[0, 22, 33, 44, 11]\n"
          ]
        }
      ]
    },
    {
      "cell_type": "markdown",
      "source": [
        "## [8] Create a list of squares the first 5 integers using list comprehension"
      ],
      "metadata": {
        "id": "FPqResUAbzZ6"
      }
    },
    {
      "cell_type": "code",
      "source": [
        "# DIY\n",
        "squares = [x**2 for x in range(1, 6)]\n",
        "print(squares)"
      ],
      "metadata": {
        "colab": {
          "base_uri": "https://localhost:8080/"
        },
        "id": "etfISkXScMjh",
        "outputId": "1345bc14-7b2e-41f7-c5e5-072a28cdf314"
      },
      "execution_count": 8,
      "outputs": [
        {
          "output_type": "stream",
          "name": "stdout",
          "text": [
            "[1, 4, 9, 16, 25]\n"
          ]
        }
      ]
    },
    {
      "cell_type": "markdown",
      "source": [
        "# 4.4 DIctionary"
      ],
      "metadata": {
        "id": "Favf9vdzdS-g"
      }
    },
    {
      "cell_type": "markdown",
      "source": [
        "## [9] Create a dictionary with keys as days and values as thier abbreviations. Print the value for \"Monday\""
      ],
      "metadata": {
        "id": "f3NgZrdMdX2S"
      }
    },
    {
      "cell_type": "code",
      "source": [
        "# DIY\n",
        "days = {\"Monday\": \"Mon\", \"Tuesday\": \"Tue\"}\n",
        "print(days[\"Monday\"])"
      ],
      "metadata": {
        "colab": {
          "base_uri": "https://localhost:8080/"
        },
        "id": "Iathvlb4d89W",
        "outputId": "59efad92-f585-4503-a3f4-34b4582852b5"
      },
      "execution_count": 9,
      "outputs": [
        {
          "output_type": "stream",
          "name": "stdout",
          "text": [
            "Mon\n"
          ]
        }
      ]
    },
    {
      "cell_type": "code",
      "source": [
        "# Run this code and see how dictionary can be used in an application\n",
        "\n",
        "myvoca = {\n",
        "    \"ASAP\": \"As soon as possible\",\n",
        "    \"FBI\": \"Federal Bureau of Investigation\",\n",
        "    \"DIY\": \"Do it yourself\",\n",
        "    \"RSVP\": \"Répondez s'il vous plaît (French for 'Please respond')\",\n",
        "    \"ETA\": \"Estimated Time of Arrival\"\n",
        "}\n",
        "\n",
        "word_input = input(\"Enter an acronym: e.g., ASAP, FBI, DIY, RSVP, ETA\")\n",
        "print(f\"{word_input} came from {myvoca[word_input]}.\")"
      ],
      "metadata": {
        "id": "YEXpWYyajjE0",
        "outputId": "3a527114-c333-475b-952f-f518e51a1692",
        "colab": {
          "base_uri": "https://localhost:8080/"
        }
      },
      "execution_count": 10,
      "outputs": [
        {
          "output_type": "stream",
          "name": "stdout",
          "text": [
            "Enter an acronym: e.g., ASAP, FBI, DIY, RSVP, ETAETA\n",
            "ETA came from Estimated Time of Arrival.\n"
          ]
        }
      ]
    },
    {
      "cell_type": "markdown",
      "source": [
        "## [10] Add \"LOL\" to the dictionary and print the updated dictionary"
      ],
      "metadata": {
        "id": "pL46Ss-gfeRH"
      }
    },
    {
      "cell_type": "code",
      "source": [
        "myvoca[\"LOL\"] = \"Laugh Out Loud\"\n",
        "print(myvoca)"
      ],
      "metadata": {
        "colab": {
          "base_uri": "https://localhost:8080/"
        },
        "id": "W5lf5N8MgCus",
        "outputId": "5d95d376-f9c6-42bd-92e3-0dfcd77fcb7f"
      },
      "execution_count": 11,
      "outputs": [
        {
          "output_type": "stream",
          "name": "stdout",
          "text": [
            "{'ASAP': 'As soon as possible', 'FBI': 'Federal Bureau of Investigation', 'DIY': 'Do it yourself', 'RSVP': \"Répondez s'il vous plaît (French for 'Please respond')\", 'ETA': 'Estimated Time of Arrival', 'LOL': 'Laugh Out Loud'}\n"
          ]
        }
      ]
    },
    {
      "cell_type": "code",
      "source": [
        "# DIY: write code to add \"LOL\" to the dictionary and type 'LOL' to see the result\n",
        "\n",
        "myvoca[\"LOL\"] = \"Laugh Out Loud\"\n",
        "word_input = input(\"Enter an acronym: e.g., ASAP, FBI, DIY, RSVP, ETA, LOL\")\n",
        "print(f\"{word_input} came from {myvoca[word_input]}.\")"
      ],
      "metadata": {
        "colab": {
          "base_uri": "https://localhost:8080/"
        },
        "id": "CPoLz4bugDWz",
        "outputId": "4d04c00e-8724-4ec9-ab9e-7cba0b3d0aca"
      },
      "execution_count": 15,
      "outputs": [
        {
          "output_type": "stream",
          "name": "stdout",
          "text": [
            "Enter an acronym: e.g., ASAP, FBI, DIY, RSVP, ETA, LOLLOL\n",
            "LOL came from Laugh Out Loud.\n"
          ]
        }
      ]
    },
    {
      "cell_type": "markdown",
      "source": [
        "## [11] Create a dictionary with names of animals as keys and their cubs as values using dictionary comprehension."
      ],
      "metadata": {
        "id": "q9HV_va4g0x2"
      }
    },
    {
      "cell_type": "code",
      "source": [
        "# DIY\n",
        "words = {\n",
        "    \"Cat\": \"Kitten\",\n",
        "    \"Dog\": \"Puppy\",\n",
        "    \"Chicken\": \"Chick\",\n",
        "    \"Sheep\": \"Lamb\",\n",
        "    \"Elephant\": \"Calf\",\n",
        "    \"Cow\": \"Calf\",\n",
        "    \"Whale\": \"Calf\"\n",
        "}\n",
        "\n",
        "\n",
        "word_input = input(\"Enter a word : e.g., Elephant, Cow, Whale, Cat, Dog, Chicken, Sheep\")\n",
        "print(f\"{word_input}'s cub is called {words[word_input]}.\")"
      ],
      "metadata": {
        "colab": {
          "base_uri": "https://localhost:8080/"
        },
        "id": "ztgpNzqxihtb",
        "outputId": "617759c3-b6c7-401d-f787-0768d748ee68"
      },
      "execution_count": 25,
      "outputs": [
        {
          "output_type": "stream",
          "name": "stdout",
          "text": [
            "Enter a word : e.g., Elephant, Cow, Whale, Cat, Dog, Chicken, SheepCow\n",
            "Cow's cub is called Calf.\n"
          ]
        }
      ]
    },
    {
      "cell_type": "markdown",
      "source": [
        "# 4.5 Tuple"
      ],
      "metadata": {
        "id": "Bz6ui9fgmOmG"
      }
    },
    {
      "cell_type": "markdown",
      "source": [
        "## [12] Create a tuple as given below and print the second one."
      ],
      "metadata": {
        "id": "8VosIBjnmTbg"
      }
    },
    {
      "cell_type": "code",
      "source": [
        "game = (\"Rock\", \"Paper\", \"Sissors\")\n",
        "print(game[0])"
      ],
      "metadata": {
        "colab": {
          "base_uri": "https://localhost:8080/"
        },
        "id": "ZBppAJlnmldR",
        "outputId": "f3929673-8d25-4aa7-f529-bc7f0bb8a0fd"
      },
      "execution_count": 26,
      "outputs": [
        {
          "output_type": "stream",
          "name": "stdout",
          "text": [
            "Rock\n"
          ]
        }
      ]
    },
    {
      "cell_type": "code",
      "source": [
        "# DIY\n",
        "game = (\"Rock\", \"Paper\", \"Sissors\")\n",
        "print(game[1])"
      ],
      "metadata": {
        "colab": {
          "base_uri": "https://localhost:8080/"
        },
        "id": "1TkfWbB6nBbm",
        "outputId": "ed0a87e4-c8e0-4c3d-e8a3-d808538b11c8"
      },
      "execution_count": 27,
      "outputs": [
        {
          "output_type": "stream",
          "name": "stdout",
          "text": [
            "Paper\n"
          ]
        }
      ]
    },
    {
      "cell_type": "code",
      "source": [
        "# Sample: Run this code multiple times and see the output\n",
        "import random\n",
        "your_input=input(\"Choose Rock, Paper, or Sissors: \")\n",
        "game = (\"Rock\", \"Paper\", \"Sissors\")\n",
        "print(f\"Your choice: {your_input}\")\n",
        "print(\"AI:\", random.choice(game))"
      ],
      "metadata": {
        "colab": {
          "base_uri": "https://localhost:8080/"
        },
        "id": "osLodLagnNzR",
        "outputId": "54f566e9-13c7-45e6-939b-47aef9f34228"
      },
      "execution_count": 29,
      "outputs": [
        {
          "output_type": "stream",
          "name": "stdout",
          "text": [
            "Choose Rock, Paper, or Sissors: Paper\n",
            "Your choice: Paper\n",
            "AI: Rock\n"
          ]
        }
      ]
    },
    {
      "cell_type": "markdown",
      "source": [
        "# 4.6 Set"
      ],
      "metadata": {
        "id": "f56QdmvLnsCW"
      }
    },
    {
      "cell_type": "markdown",
      "source": [
        "## [13] Create a set of even numbers less than 10 and print it"
      ],
      "metadata": {
        "id": "k79l6lDynuIy"
      }
    },
    {
      "cell_type": "code",
      "source": [
        "# DIY\n",
        "evens = set(range(0, 10, 2))\n",
        "print(evens)"
      ],
      "metadata": {
        "colab": {
          "base_uri": "https://localhost:8080/"
        },
        "id": "52fa0kJvnq-P",
        "outputId": "25fe9c45-eb3a-4542-ffa4-d3bc1efb8539"
      },
      "execution_count": 30,
      "outputs": [
        {
          "output_type": "stream",
          "name": "stdout",
          "text": [
            "{0, 2, 4, 6, 8}\n"
          ]
        }
      ]
    },
    {
      "cell_type": "markdown",
      "source": [
        "# 4.7 Boolean, None Type"
      ],
      "metadata": {
        "id": "y2_C1LrRoGvG"
      }
    },
    {
      "cell_type": "code",
      "source": [
        "# DIY\n",
        "items = [1, 2, 3]\n",
        "if not items:\n",
        "    print(\"Empty\")\n",
        "else:\n",
        "    print(\"Not Empty\")"
      ],
      "metadata": {
        "colab": {
          "base_uri": "https://localhost:8080/"
        },
        "id": "6h_w-qr0oTGe",
        "outputId": "63a97116-3b71-4534-8894-7c315d400f7c"
      },
      "execution_count": 33,
      "outputs": [
        {
          "output_type": "stream",
          "name": "stdout",
          "text": [
            "Not Empty\n"
          ]
        }
      ]
    }
  ]
}
{
  "nbformat": 4,
  "nbformat_minor": 0,
  "metadata": {
    "colab": {
      "provenance": [],
      "authorship_tag": "ABX9TyOlGUoU+4g0qb0++6xP8LFg",
      "include_colab_link": true
    },
    "kernelspec": {
      "name": "python3",
      "display_name": "Python 3"
    },
    "language_info": {
      "name": "python"
    }
  },
  "cells": [
    {
      "cell_type": "markdown",
      "metadata": {
        "id": "view-in-github",
        "colab_type": "text"
      },
      "source": [
        "<a href=\"https://colab.research.google.com/github/yunju05/Practice/blob/main/DLlesson4.ipynb\" target=\"_parent\"><img src=\"https://colab.research.google.com/assets/colab-badge.svg\" alt=\"Open In Colab\"/></a>"
      ]
    },
    {
      "cell_type": "markdown",
      "source": [
        "## 1. Number"
      ],
      "metadata": {
        "id": "gujZRjaGAy1H"
      }
    },
    {
      "cell_type": "markdown",
      "source": [
        "### Integer"
      ],
      "metadata": {
        "id": "bKw5C1oaAfYb"
      }
    },
    {
      "cell_type": "code",
      "source": [
        "# An example of an integer\n",
        "age = 45\n",
        "print(\"Age:\", age)"
      ],
      "metadata": {
        "colab": {
          "base_uri": "https://localhost:8080/"
        },
        "id": "QPA9Ja0a6ehm",
        "outputId": "1e32f872-98b9-46cb-f175-b0a9482a2a25"
      },
      "execution_count": 2,
      "outputs": [
        {
          "output_type": "stream",
          "name": "stdout",
          "text": [
            "Age: 45\n"
          ]
        }
      ]
    },
    {
      "cell_type": "markdown",
      "source": [
        "### Floating number"
      ],
      "metadata": {
        "id": "Lm-wW2sEAjtm"
      }
    },
    {
      "cell_type": "code",
      "source": [
        "# An example of a float\n",
        "average_score = 82.5\n",
        "print(\"Average Score:\", average_score)"
      ],
      "metadata": {
        "colab": {
          "base_uri": "https://localhost:8080/"
        },
        "id": "OGA1mX-9AT2P",
        "outputId": "662d1e7d-3532-4c9c-e8ac-213646b167c5"
      },
      "execution_count": 3,
      "outputs": [
        {
          "output_type": "stream",
          "name": "stdout",
          "text": [
            "Average Score: 82.5\n"
          ]
        }
      ]
    },
    {
      "cell_type": "markdown",
      "source": [
        "## 2. String (str):"
      ],
      "metadata": {
        "id": "3pMWsU_cA5xm"
      }
    },
    {
      "cell_type": "code",
      "source": [
        "# An example of a string\n",
        "name = input()\n",
        "# A pop-up box will appear and wait for your input. Type a name.\n",
        "print(f\"Hello,{name}\")\n",
        "# % operator: The % operator is used for string formatting. It links the string \"Hello, %s!\" with the variable name to replace the %s placeholder."
      ],
      "metadata": {
        "colab": {
          "base_uri": "https://localhost:8080/"
        },
        "id": "3aNGDpWDA-tK",
        "outputId": "387eea39-2491-48c0-bbcc-bd2c1055f275"
      },
      "execution_count": 15,
      "outputs": [
        {
          "output_type": "stream",
          "name": "stdout",
          "text": [
            "j\n",
            "Hello,j\n"
          ]
        }
      ]
    },
    {
      "cell_type": "code",
      "source": [
        "# An example of a string\n",
        "name = input()  # A pop-up box will appear and wait for your input. Type a name.\n",
        "print(f\"Hello, {name}!\")"
      ],
      "metadata": {
        "colab": {
          "base_uri": "https://localhost:8080/"
        },
        "id": "06v5gudzCigJ",
        "outputId": "6329862a-5d19-4670-b0ff-986e1c30246a"
      },
      "execution_count": 14,
      "outputs": [
        {
          "output_type": "stream",
          "name": "stdout",
          "text": [
            "j \n",
            "Hello, j !\n"
          ]
        }
      ]
    },
    {
      "cell_type": "code",
      "source": [
        "mytext = \"\"\"\n",
        "Long long time ago, there lived a lion called Lezzi.\n",
        "One day, he met his friend, Fred.\n",
        "Fred is a gazelle ...\n",
        "\"\"\"\n",
        "print(mytext)"
      ],
      "metadata": {
        "colab": {
          "base_uri": "https://localhost:8080/"
        },
        "id": "V6hzDnfJDAC8",
        "outputId": "136ee419-2124-4ec2-97dc-a79228805504"
      },
      "execution_count": 18,
      "outputs": [
        {
          "output_type": "stream",
          "name": "stdout",
          "text": [
            "\n",
            "Long long time ago, there lived a lion called Lezzi.\n",
            "One day, he met his friend, Fred\n",
            "Fred is a gazelle ...\n",
            "\n"
          ]
        }
      ]
    },
    {
      "cell_type": "code",
      "source": [
        "mytext = \"\"\"\n",
        "조윤주\n",
        "\"\"\"\n",
        "print(mytext)"
      ],
      "metadata": {
        "colab": {
          "base_uri": "https://localhost:8080/"
        },
        "outputId": "c55c6863-6428-4b2b-eaf3-94d4352cbcb3",
        "id": "LmW-HyqqECZi"
      },
      "execution_count": 17,
      "outputs": [
        {
          "output_type": "stream",
          "name": "stdout",
          "text": [
            "\n",
            "조윤주\n",
            "\n"
          ]
        }
      ]
    },
    {
      "cell_type": "markdown",
      "source": [
        "## 3. List"
      ],
      "metadata": {
        "id": "iN-ibD00G4bz"
      }
    },
    {
      "cell_type": "code",
      "source": [
        "# An example of a list\n",
        "favorite_books = [\"To Kill a Mockingbird\", \"1984\", \"The Great Gatsby\"]\n",
        "print(\"Favorite Books:\", favorite_books)"
      ],
      "metadata": {
        "colab": {
          "base_uri": "https://localhost:8080/"
        },
        "id": "F7vzrMKlG6RM",
        "outputId": "acfd51f7-76dc-4502-8d81-7b09cdf7041e"
      },
      "execution_count": 19,
      "outputs": [
        {
          "output_type": "stream",
          "name": "stdout",
          "text": [
            "Favorite Books: ['To Kill a Mockingbird', '1984', 'The Great Gatsby']\n"
          ]
        }
      ]
    },
    {
      "cell_type": "code",
      "source": [
        "# An example of a list\n",
        "favorite_foods = [\"Mara soup\", \"Green tea chocolate ice cream\", \"Jelly\"]\n",
        "print(\"Favorite Foods:\", favorite_foods)"
      ],
      "metadata": {
        "colab": {
          "base_uri": "https://localhost:8080/"
        },
        "outputId": "646f895a-9c21-4c58-f63a-2347b359b8e5",
        "id": "S-ch7jEQHRKu"
      },
      "execution_count": 21,
      "outputs": [
        {
          "output_type": "stream",
          "name": "stdout",
          "text": [
            "Favorite Foods: ['Mara soup', 'Green tea chocolate ice cream', 'Jelly']\n"
          ]
        }
      ]
    },
    {
      "cell_type": "markdown",
      "source": [
        "## 4. Dictionary"
      ],
      "metadata": {
        "id": "M6Q6B8s8HnQi"
      }
    },
    {
      "cell_type": "code",
      "source": [
        "# An example of a dictionary\n",
        "student_grades = {\"Alice\": 90, \"Bob\": 85, \"Charlie\": 95}\n",
        "print(\"Student Grades:\", student_grades)"
      ],
      "metadata": {
        "colab": {
          "base_uri": "https://localhost:8080/"
        },
        "id": "F_Dc8TLTHpyl",
        "outputId": "485421d2-b9d1-4ed2-f4f6-70fe4c04a4ac"
      },
      "execution_count": 22,
      "outputs": [
        {
          "output_type": "stream",
          "name": "stdout",
          "text": [
            "Student Grades: {'Alice': 90, 'Bob': 85, 'Charlie': 95}\n"
          ]
        }
      ]
    },
    {
      "cell_type": "code",
      "source": [
        "# Return Alice's grade\n",
        "student_grades['Alice']"
      ],
      "metadata": {
        "colab": {
          "base_uri": "https://localhost:8080/"
        },
        "id": "qSTXDH2-H4dA",
        "outputId": "602d4cc9-0fca-4131-84c2-3527b86debc1"
      },
      "execution_count": 23,
      "outputs": [
        {
          "output_type": "execute_result",
          "data": {
            "text/plain": [
              "90"
            ]
          },
          "metadata": {},
          "execution_count": 23
        }
      ]
    },
    {
      "cell_type": "code",
      "source": [
        "# An example of a dictionary\n",
        "foods_grades = {\"Mint chocolate\": -99, \"Tangsooyook\": 89 ,\"Rice ball\": 54}\n",
        "print(\"Foods Grades:\", foods_grades)"
      ],
      "metadata": {
        "colab": {
          "base_uri": "https://localhost:8080/"
        },
        "outputId": "910de231-b548-43dd-9027-d83124c1cda4",
        "id": "4CWfekwFIHqw"
      },
      "execution_count": 24,
      "outputs": [
        {
          "output_type": "stream",
          "name": "stdout",
          "text": [
            "Foods Grades: {'Mint chocolate': -99, 'Tangsooyook': 89, 'Rice ball': 54}\n"
          ]
        }
      ]
    },
    {
      "cell_type": "code",
      "source": [
        "# Return Grade of Mint chocolate\n",
        "foods_grades['Mint chocolate']"
      ],
      "metadata": {
        "colab": {
          "base_uri": "https://localhost:8080/"
        },
        "outputId": "2fc0510c-d861-4750-9097-52fc4a10ef8c",
        "id": "5SsKg2faIKed"
      },
      "execution_count": 25,
      "outputs": [
        {
          "output_type": "execute_result",
          "data": {
            "text/plain": [
              "-99"
            ]
          },
          "metadata": {},
          "execution_count": 25
        }
      ]
    },
    {
      "cell_type": "markdown",
      "source": [
        "## 5. Tuple"
      ],
      "metadata": {
        "id": "U8I73bpGJ1zZ"
      }
    },
    {
      "cell_type": "code",
      "source": [
        "# An example of a tuple\n",
        "months_of_the_year = (\"January\", \"February\", \"March\", \"April\")\n",
        "print(\"Months of the Year:\", months_of_the_year)"
      ],
      "metadata": {
        "colab": {
          "base_uri": "https://localhost:8080/"
        },
        "id": "0of00oIRKBG2",
        "outputId": "ea769d11-e6c4-47a0-a986-74dba76d3d3c"
      },
      "execution_count": 26,
      "outputs": [
        {
          "output_type": "stream",
          "name": "stdout",
          "text": [
            "Months of the Year: ('January', 'February', 'March', 'April')\n"
          ]
        }
      ]
    }
  ]
}